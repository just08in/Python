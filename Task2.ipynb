{
 "cells": [
  {
   "cell_type": "code",
   "execution_count": 12,
   "metadata": {},
   "outputs": [
    {
     "name": "stdout",
     "output_type": "stream",
     "text": [
      "Enter number5\n",
      "\n",
      "*\n",
      "**\n",
      "***\n",
      "****\n",
      "*****\n",
      "****\n",
      "***\n",
      "**\n",
      "*\n",
      "\n"
     ]
    }
   ],
   "source": [
    "b=int(input(\"Enter number\"))\n",
    "m=str()\n",
    "for i in range(b):\n",
    "    #m.append(\"*\")\n",
    "    m=m+\"*\"\n",
    "for i in range(b):\n",
    "    print(m[0:i])\n",
    "print(m)\n",
    "for i in range(b):\n",
    "    print(m[-1*b+i:-1])"
   ]
  },
  {
   "cell_type": "code",
   "execution_count": 20,
   "metadata": {},
   "outputs": [
    {
     "data": {
      "text/plain": [
       "['1', '123', '25', '12']"
      ]
     },
     "execution_count": 20,
     "metadata": {},
     "output_type": "execute_result"
    }
   ],
   "source": [
    "x=input(\"Enter comma seperated numbers\")\n",
    "m=[]\n",
    "b=0\n",
    "#print(len(x))\n",
    "for i in range(len(x)):\n",
    "    if(x[i]==\",\"):\n",
    "        #print(x[b:i])\n",
    "        m.append(x[b:i])\n",
    "        b=i+1\n",
    "else :\n",
    "    #print(x[b:len(x)])\n",
    "    m.append(x[b:len(x)])\n",
    "m"
   ]
  },
  {
   "cell_type": "code",
   "execution_count": 22,
   "metadata": {},
   "outputs": [
    {
     "name": "stdout",
     "output_type": "stream",
     "text": [
      "Please enter a wordNMruy12\n",
      "21yurMN\n"
     ]
    }
   ],
   "source": [
    "Word=input(\"Please enter a word\")\n",
    "f=-1*(len(Word)+1)\n",
    "print(Word[-1:f:-1])"
   ]
  },
  {
   "cell_type": "code",
   "execution_count": 34,
   "metadata": {},
   "outputs": [
    {
     "name": "stdout",
     "output_type": "stream",
     "text": [
      "161\n",
      "WE, THE PEOPLE OF INDIA,\n",
      " having solemnly resolved to constitute India into a SOVEREIGN,\n",
      " SOCIALIST, SECULAR, DEMOCRATIC REPUBLIC \n"
     ]
    }
   ],
   "source": [
    "Text=\"WE, THE PEOPLE OF INDIA, having solemnly resolved to constitute India into a SOVEREIGN, SOCIALIST, SECULAR, DEMOCRATIC REPUBLIC and to secure to all its citizens\"\n",
    "print(len(Text))\n",
    "b=0\n",
    "for i in range(len(Text)):\n",
    "    #print(Text[i:i+3])\n",
    "    if(Text[i:i+3]==\"A, \") or (Text[i:i+3]==\"N, \") or (Text[i:i+3]==\"C a\"):\n",
    "        print(Text[b:i+2])\n",
    "        b=i+2\n",
    "    \n"
   ]
  },
  {
   "cell_type": "code",
   "execution_count": 37,
   "metadata": {},
   "outputs": [
    {
     "name": "stdout",
     "output_type": "stream",
     "text": [
      "161\n",
      "WE, THE PEOPLE OF INDIA,\n",
      "      having solemnly resolved to constitute India into a SOVEREIGN,!\n",
      "             SOCIALIST, SECULAR, DEMOCRATIC REPUBLIC \n",
      "              and to secure to all its citizens\n"
     ]
    }
   ],
   "source": [
    "Text=\"WE, THE PEOPLE OF INDIA, having solemnly resolved to constitute India into a SOVEREIGN, SOCIALIST, SECULAR, DEMOCRATIC REPUBLIC and to secure to all its citizens\"\n",
    "print(len(Text))\n",
    "b=0\n",
    "for i in range(len(Text)):\n",
    "    #print(Text[i:i+3])\n",
    "    if(Text[i:i+3]==\"A, \"):\n",
    "        print(Text[b:i+2])\n",
    "        b=i+2\n",
    "    elif (Text[i:i+3]==\"N, \"):\n",
    "        print(\"     \" + Text[b:i+2]+\"!\")\n",
    "        b=i+2\n",
    "    elif (Text[i:i+3]==\"C a\"):\n",
    "        print(\"            \" + Text[b:i+2]) \n",
    "        b=i+2\n",
    "else:\n",
    "    print(\"              \" + Text[b:i+2]) "
   ]
  },
  {
   "cell_type": "code",
   "execution_count": null,
   "metadata": {},
   "outputs": [],
   "source": []
  }
 ],
 "metadata": {
  "kernelspec": {
   "display_name": "Python 3",
   "language": "python",
   "name": "python3"
  },
  "language_info": {
   "codemirror_mode": {
    "name": "ipython",
    "version": 3
   },
   "file_extension": ".py",
   "mimetype": "text/x-python",
   "name": "python",
   "nbconvert_exporter": "python",
   "pygments_lexer": "ipython3",
   "version": "3.7.6"
  }
 },
 "nbformat": 4,
 "nbformat_minor": 4
}
